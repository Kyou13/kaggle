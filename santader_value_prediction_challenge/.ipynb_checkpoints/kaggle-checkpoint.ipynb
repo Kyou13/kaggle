{
 "cells": [
  {
   "cell_type": "markdown",
   "metadata": {
    "colab_type": "text",
    "id": "e35Knk0UFkFK"
   },
   "source": [
    "# Santander Value Prediction Challenge\n",
    "[LINK](https://www.kaggle.com/c/santander-value-prediction-challenge)"
   ]
  },
  {
   "cell_type": "markdown",
   "metadata": {
    "colab_type": "text",
    "id": "TUpKDrjUIhG9"
   },
   "source": [
    "## Google Drive認証"
   ]
  },
  {
   "cell_type": "markdown",
   "metadata": {
    "colab_type": "text",
    "id": "frZ2Fju2FxWw"
   },
   "source": [
    "## TrainとTestの事前調査\n"
   ]
  },
  {
   "cell_type": "code",
   "execution_count": 3,
   "metadata": {
    "colab": {
     "autoexec": {
      "startup": false,
      "wait_interval": 0
     }
    },
    "colab_type": "code",
    "id": "Q0DDrLoG-W_N"
   },
   "outputs": [],
   "source": [
    "import gc\n",
    "import itertools\n",
    "from copy import deepcopy\n",
    "\n",
    "import numpy as np\n",
    "import pandas as pd\n",
    "\n",
    "from tqdm import tqdm\n",
    "\n",
    "from scipy.stats import ks_2samp\n",
    "\n",
    "from sklearn.preprocessing import scale, MinMaxScaler\n",
    "from sklearn.manifold import TSNE\n",
    "from sklearn.decomposition import TruncatedSVD\n",
    "from sklearn.decomposition import FastICA\n",
    "from sklearn.decomposition import PCA\n",
    "from sklearn.random_projection import GaussianRandomProjection\n",
    "from sklearn.random_projection import SparseRandomProjection\n",
    "\n",
    "from sklearn import manifold\n",
    "from sklearn.ensemble import ExtraTreesClassifier\n",
    "from sklearn.model_selection import cross_val_predict\n",
    "from sklearn.metrics import classification_report\n",
    "from sklearn.model_selection import StratifiedKFold\n",
    "\n",
    "import matplotlib.pyplot as plt\n",
    "from matplotlib.ticker import NullFormatter\n",
    "import io\n",
    "%matplotlib inline"
   ]
  },
  {
   "cell_type": "markdown",
   "metadata": {
    "colab_type": "text",
    "id": "Cxv4CAx6_UoM"
   },
   "source": [
    "## t-SNEによる次元圧縮\n",
    "- 4459サンプル(testとtrain合わせて)"
   ]
  },
  {
   "cell_type": "code",
   "execution_count": null,
   "metadata": {
    "colab": {
     "autoexec": {
      "startup": false,
      "wait_interval": 0
     }
    },
    "colab_type": "code",
    "collapsed": true,
    "id": "-Ga5rO_QFViO"
   },
   "outputs": [],
   "source": [
    "SAMPLE_SIZE = 4459\n",
    "\n",
    "train_df = pd.read_csv('train.csv').sample(SAMPLE_SIZE) # sample(n, axis) ランダムにサンプリング\n",
    "test_df = pd.read_csv('test.csv').sample(SAMPLE_SIZE) "
   ]
  },
  {
   "cell_type": "code",
   "execution_count": 0,
   "metadata": {
    "colab": {
     "autoexec": {
      "startup": false,
      "wait_interval": 0
     }
    },
    "colab_type": "code",
    "collapsed": true,
    "id": "Ld95olvqQ8T4"
   },
   "outputs": [],
   "source": [
    "#concat\n",
    "total_df = pd.concat([train_df.drop('target', axis=1), test_df], axis=0).drop('ID', axis=1) #　drop(labels, axis)　行・列削除"
   ]
  },
  {
   "cell_type": "code",
   "execution_count": 10,
   "metadata": {
    "colab": {
     "autoexec": {
      "startup": false,
      "wait_interval": 0
     },
     "base_uri": "https://localhost:8080/",
     "height": 34
    },
    "colab_type": "code",
    "executionInfo": {
     "elapsed": 23637,
     "status": "ok",
     "timestamp": 1530605115519,
     "user": {
      "displayName": "Kyohei Saito",
      "photoUrl": "//lh5.googleusercontent.com/-VeZmwaFTLhA/AAAAAAAAAAI/AAAAAAAAAP0/xQMhKEedyWg/s50-c-k-no/photo.jpg",
      "userId": "108078913418682003752"
     },
     "user_tz": -540
    },
    "id": "JVgrzrQtKm8K",
    "outputId": "495847a2-65a6-4c38-da17-dd42e7415514"
   },
   "outputs": [
    {
     "name": "stdout",
     "output_type": "stream",
     "text": [
      ">> Removed 256 constant columns\n"
     ]
    }
   ],
   "source": [
    "# 標準偏差が0のカラムをtotal_dfから除く\n",
    "zero_std_cols = train_df.drop(\"ID\", axis=1).columns[train_df.std() == 0] # std() 各ラベルの標準偏差\n",
    "total_df.drop(zero_std_cols, axis=1, inplace=True) # inplaceは破壊的変更\n",
    "print(f\">> Removed {len(zero_std_cols)} constant columns\")"
   ]
  },
  {
   "cell_type": "code",
   "execution_count": 11,
   "metadata": {
    "colab": {
     "autoexec": {
      "startup": false,
      "wait_interval": 0
     },
     "base_uri": "https://localhost:8080/",
     "height": 34
    },
    "colab_type": "code",
    "executionInfo": {
     "elapsed": 219784,
     "status": "ok",
     "timestamp": 1530605345636,
     "user": {
      "displayName": "Kyohei Saito",
      "photoUrl": "//lh5.googleusercontent.com/-VeZmwaFTLhA/AAAAAAAAAAI/AAAAAAAAAP0/xQMhKEedyWg/s50-c-k-no/photo.jpg",
      "userId": "108078913418682003752"
     },
     "user_tz": -540
    },
    "id": "gtA_WCw_L0Ra",
    "outputId": "0170825f-41b5-4519-e376-b4e2772f4b17"
   },
   "outputs": [
    {
     "name": "stdout",
     "output_type": "stream",
     "text": [
      ">> Dropped 5 duplicate columns\n"
     ]
    }
   ],
   "source": [
    "# 被ってるカラムを取り除く\n",
    "# Taken from: https://www.kaggle.com/scirpus/santander-poor-mans-tsne\n",
    "colsToRemove = [] # 同じ列のカラム名を入れる(2つのうち後半の方)\n",
    "colsScaned = [] # これはcolsToRemoveと一緒じゃない？\n",
    "dupList = {}\n",
    "columns = total_df.columns\n",
    "for i in range(len(columns)-1):\n",
    "    v = train_df[columns[i]].values\n",
    "    dupCols = []\n",
    "    for j in range(i+1,len(columns)):\n",
    "        if np.array_equal(v, train_df[columns[j]].values): # 列ごとに要素が同じか比較\n",
    "            colsToRemove.append(columns[j])\n",
    "            if columns[j] not in colsScaned:\n",
    "                dupCols.append(columns[j]) \n",
    "                colsScaned.append(columns[j])\n",
    "                dupList[columns[i]] = dupCols\n",
    "colsToRemove = list(set(colsToRemove)) # setは集合(重複ない、順番もない)\n",
    "total_df.drop(colsToRemove, axis=1, inplace=True)\n",
    "print(f\">> Dropped {len(colsToRemove)} duplicate columns\")"
   ]
  },
  {
   "cell_type": "code",
   "execution_count": 29,
   "metadata": {
    "colab": {
     "autoexec": {
      "startup": false,
      "wait_interval": 0
     },
     "base_uri": "https://localhost:8080/",
     "height": 88
    },
    "colab_type": "code",
    "executionInfo": {
     "elapsed": 669,
     "status": "ok",
     "timestamp": 1530606213754,
     "user": {
      "displayName": "Kyohei Saito",
      "photoUrl": "//lh5.googleusercontent.com/-VeZmwaFTLhA/AAAAAAAAAAI/AAAAAAAAAP0/xQMhKEedyWg/s50-c-k-no/photo.jpg",
      "userId": "108078913418682003752"
     },
     "user_tz": -540
    },
    "id": "8XUARxHEO4qt",
    "outputId": "0e9b9360-6ce7-48a6-a02d-4e33e14bf0dd"
   },
   "outputs": [
    {
     "name": "stderr",
     "output_type": "stream",
     "text": [
      "/usr/local/lib/python3.6/dist-packages/ipykernel_launcher.py:1: RuntimeWarning: divide by zero encountered in log\n",
      "  \"\"\"Entry point for launching an IPython kernel.\n"
     ]
    },
    {
     "data": {
      "text/plain": [
       "(8918,)"
      ]
     },
     "execution_count": 29,
     "metadata": {
      "tags": []
     },
     "output_type": "execute_result"
    }
   ],
   "source": [
    "np.log(total_df[total_df.columns[0]].values).shape"
   ]
  },
  {
   "cell_type": "code",
   "execution_count": 76,
   "metadata": {
    "colab": {
     "autoexec": {
      "startup": false,
      "wait_interval": 0
     },
     "base_uri": "https://localhost:8080/",
     "height": 34
    },
    "colab_type": "code",
    "executionInfo": {
     "elapsed": 604,
     "status": "ok",
     "timestamp": 1530541050583,
     "user": {
      "displayName": "Kyohei Saito",
      "photoUrl": "//lh5.googleusercontent.com/-VeZmwaFTLhA/AAAAAAAAAAI/AAAAAAAAAP0/xQMhKEedyWg/s50-c-k-no/photo.jpg",
      "userId": "108078913418682003752"
     },
     "user_tz": -540
    },
    "id": "gktR2VSXWYHv",
    "outputId": "281d14da-ec3a-42f3-b99d-f233798d7088"
   },
   "outputs": [
    {
     "name": "stdout",
     "output_type": "stream",
     "text": [
      "['d60ddde1b', 'acc5b709d', 'f333a5f60', 'f8d75792f', '912836770'] ['912836770', 'f8d75792f', 'f333a5f60', 'acc5b709d', 'd60ddde1b']\n"
     ]
    }
   ],
   "source": [
    "# Go through the columns one at a time (can't do it all at once for this dataset)\n",
    "total_df_all = deepcopy(total_df) # オブジェクト内のオブジェクトは別IDをもつ（ex.入れ子のリスト)             \n",
    "for col in total_df.columns:\n",
    "    \n",
    "    # Detect outliers in this column\n",
    "    data = total_df[col].values\n",
    "    data_mean, data_std = np.mean(data), np.std(data) # 各カラムの平均、標準偏差\n",
    "    cut_off = data_std * 3\n",
    "    lower, upper = data_mean - cut_off, data_mean + cut_off # 3σの範囲求める\n",
    "    outliers = [x for x in data if x < lower or x > upper]　# 外れ値\n",
    "    \n",
    "    # If there are crazy high values, do a log-transform\n",
    "    # 外れ値のlogとる\n",
    "    if len(outliers) > 0:\n",
    "        non_zero_idx = data != 0\n",
    "        total_df.loc[non_zero_idx, col] = np.log(data[non_zero_idx]) # loc(row,col) データを参照 # 0ではない各要素のlog\n",
    "    \n",
    "    # Scale non-zero column values\n",
    "    nonzero_rows = total_df[col] != 0\n",
    "    total_df.loc[nonzero_rows, col] = scale(total_df.loc[nonzero_rows, col])　# 平均0, 分散1\n",
    "    \n",
    "    # Scale all column values\n",
    "    total_df_all[col] = scale(total_df_all[col])\n",
    "    gc.collect()"
   ]
  }
 ],
 "metadata": {
  "colab": {
   "default_view": {},
   "name": "kaggle.ipynb",
   "provenance": [],
   "toc_visible": true,
   "version": "0.3.2",
   "views": {}
  },
  "kernelspec": {
   "display_name": "Python 3",
   "language": "python",
   "name": "python3"
  },
  "language_info": {
   "codemirror_mode": {
    "name": "ipython",
    "version": 3
   },
   "file_extension": ".py",
   "mimetype": "text/x-python",
   "name": "python",
   "nbconvert_exporter": "python",
   "pygments_lexer": "ipython3",
   "version": "3.5.3"
  }
 },
 "nbformat": 4,
 "nbformat_minor": 1
}
